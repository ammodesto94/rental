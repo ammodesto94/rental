{
 "cells": [
  {
   "cell_type": "code",
   "execution_count": 1,
   "id": "5f244562",
   "metadata": {},
   "outputs": [
    {
     "name": "stdout",
     "output_type": "stream",
     "text": [
      "what is your storage income? 20\n",
      "what is your laundry income? 20\n",
      "what is your rental income? 1000\n",
      "Do you have any extra income? 500\n",
      "==================================================\n",
      " Your total monthly income is 1540\n",
      "==================================================\n",
      "what is your monthly gas expenses? 40\n",
      "what is your monthly insurance expense? 100\n",
      "what is your monthly water expense? 40\n",
      "what is your monthly garbage expense? 40\n",
      "what is your monthly electric expense? 60\n",
      "what is your monthly tax expense? 100\n",
      "what is your monthly hoa expense? 0\n",
      "what is your monthly lawn and snow care expense? 100\n",
      "what is your monthly repair expense?100\n",
      "==================================================\n",
      "Your total monthly expenses is 580 \n",
      "==================================================\n",
      "==================================================\n",
      "Your total annual Outcome is 11520\n",
      "==================================================\n"
     ]
    }
   ],
   "source": [
    "class Housing:\n",
    "    def __init__(self, total_income = 0, My_cost = 0, Money_coming = 0, extra = 0):\n",
    "        self.total_income = total_income\n",
    "        self.My_cost = My_cost\n",
    "        self.Money_coming = Money_coming\n",
    "        self.extra = extra\n",
    "\n",
    "    def income(self):\n",
    "        storage = int(input(\"what is your storage income? \"))\n",
    "        laundry = int(input(\"what is your laundry income? \"))\n",
    "        Rental = int(input(\"what is your rental income? \"))\n",
    "        Side = int(input(\"Do you have any extra income? \"))\n",
    "        self.total_income = laundry + Rental + storage + Side\n",
    "        print(\"==================================================\")\n",
    "        print(f\" Your total monthly income is {self.total_income}\")\n",
    "        print(\"==================================================\")\n",
    "        \n",
    "\n",
    "    def Overhead(self):\n",
    "        gas = int(input(\"what is your monthly gas expenses? \"))\n",
    "        insurance = int(input(\"what is your monthly insurance expense? \"))\n",
    "        water_sewer = int(input(\"what is your monthly water expense? \"))\n",
    "        garbage = int(input(\"what is your monthly garbage expense? \"))\n",
    "        electric = int(input(\"what is your monthly electric expense? \"))\n",
    "        taxes = int(input(\"what is your monthly tax expense? \"))\n",
    "        hoa = int(input(\"what is your monthly hoa expense? \"))\n",
    "        lawn_snow = int(input(\"what is your monthly lawn and snow care expense? \"))\n",
    "        repairs = int(input(\"what is your monthly repair expense?\"))\n",
    "        self.My_cost = taxes + insurance + water_sewer + garbage + electric + gas + hoa + lawn_snow + repairs\n",
    "        print(\"==================================================\")\n",
    "        print(f\"Your total monthly expenses is {self.My_cost} \")\n",
    "        print(\"==================================================\")\n",
    "    def Outcome(self):\n",
    "        self.Money_coming = (self.total_income*12) - (self.My_cost*12)\n",
    "        print(\"==================================================\")\n",
    "        print(f\"Your total annual Outcome is {self.Money_coming}\")\n",
    "        print(\"==================================================\")\n",
    "\n",
    "    \n",
    "        \n",
    "\n",
    "def rent():\n",
    "    rent = Housing()\n",
    "    rent.income()\n",
    "    rent.Overhead()\n",
    "    rent.Outcome()\n",
    "rent()\n"
   ]
  },
  {
   "cell_type": "code",
   "execution_count": null,
   "id": "fcd43117",
   "metadata": {},
   "outputs": [],
   "source": []
  }
 ],
 "metadata": {
  "kernelspec": {
   "display_name": "Python 3 (ipykernel)",
   "language": "python",
   "name": "python3"
  },
  "language_info": {
   "codemirror_mode": {
    "name": "ipython",
    "version": 3
   },
   "file_extension": ".py",
   "mimetype": "text/x-python",
   "name": "python",
   "nbconvert_exporter": "python",
   "pygments_lexer": "ipython3",
   "version": "3.9.7"
  }
 },
 "nbformat": 4,
 "nbformat_minor": 5
}
